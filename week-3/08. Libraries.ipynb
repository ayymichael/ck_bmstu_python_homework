{
 "cells": [
  {
   "cell_type": "markdown",
   "metadata": {
    "colab_type": "text",
    "id": "ThHYoaTjFv4m"
   },
   "source": [
    "# Импорт библиотек и создание рабочего окружения"
   ]
  },
  {
   "cell_type": "markdown",
   "metadata": {
    "colab_type": "text",
    "id": "Lxqk2gccLbn-"
   },
   "source": [
    "Модулем в Python называется некоторая небольшая программа.\n",
    "\n",
    "Каждая программа может импортировать модуль и получить доступ к его классам, функциям и объектам. Нужно заметить, что модуль может быть написан не только на Python, а например, на C или C++."
   ]
  },
  {
   "cell_type": "markdown",
   "metadata": {
    "colab_type": "text",
    "id": "oawrGkLQLjwd"
   },
   "source": [
    "## Подключение модуля из стандартной библиотеки\n",
    "\n",
    "Подключить модуль можно с помощью инструкции `import`. Модули обычно подключаются в самом начале кода."
   ]
  },
  {
   "cell_type": "code",
   "execution_count": 1,
   "metadata": {
    "colab": {
     "base_uri": "https://localhost:8080/",
     "height": 34
    },
    "colab_type": "code",
    "executionInfo": {
     "elapsed": 1538,
     "status": "ok",
     "timestamp": 1575366877695,
     "user": {
      "displayName": "Надежда Демиденко",
      "photoUrl": "https://lh3.googleusercontent.com/a-/AAuE7mA6D7k5OgtG9hzPe8Abs8DfOKAXQoTXaPfn7EY=s64",
      "userId": "05224310221243935536"
     },
     "user_tz": -180
    },
    "id": "swPqYbkPFqKh",
    "outputId": "1ff8a720-a12e-431c-a51a-35572eca530a"
   },
   "outputs": [
    {
     "name": "stdout",
     "output_type": "stream",
     "text": [
      "/Users/romanov/Documents/МГТУ/dc-web-developer-2022/01-python/week-3\n"
     ]
    }
   ],
   "source": [
    "import os\n",
    "print(os.getcwd())"
   ]
  },
  {
   "cell_type": "markdown",
   "metadata": {
    "colab_type": "text",
    "id": "7G8CGVg3LxBh"
   },
   "source": [
    "После ключевого слова `import` указывается название модуля.\n",
    "\n",
    "Одной инструкцией можно подключить несколько модулей, хотя этого не рекомендуется делать, так как это снижает читаемость кода.\n",
    "\n",
    "> Когда вы импортируете модуль, интерпретатор Python ищет этот модуль в следующих местах:\n",
    "- Директория, в которой находится файл, в котором вызывается команда импорта\n",
    "- Если модуль не найден, Python ищет в каждой директории, определенной в переменной окружения PYTHONPATH.\n",
    "- Если и там модуль не найден, Python проверяет путь, заданный по умолчанию\n",
    ">\n",
    "> Путь поиска модулей сохранен в системном модуле `sys` в переменной `path`. Переменная `sys.path` содержит все три вышеописанных места поиска модулей."
   ]
  },
  {
   "cell_type": "code",
   "execution_count": 3,
   "metadata": {},
   "outputs": [
    {
     "data": {
      "text/plain": [
       "['/Users/romanov/Documents/МГТУ/dc-web-developer-2022/01-python/week-3',\n",
       " '/Users/romanov/opt/anaconda3/lib/python38.zip',\n",
       " '/Users/romanov/opt/anaconda3/lib/python3.8',\n",
       " '/Users/romanov/opt/anaconda3/lib/python3.8/lib-dynload',\n",
       " '',\n",
       " '/Users/romanov/.local/lib/python3.8/site-packages',\n",
       " '/Users/romanov/opt/anaconda3/lib/python3.8/site-packages',\n",
       " '/Users/romanov/opt/anaconda3/lib/python3.8/site-packages/aeosa',\n",
       " '/Users/romanov/opt/anaconda3/lib/python3.8/site-packages/IPython/extensions',\n",
       " '/Users/romanov/.ipython']"
      ]
     },
     "execution_count": 3,
     "metadata": {},
     "output_type": "execute_result"
    }
   ],
   "source": [
    "import sys\n",
    "\n",
    "sys.path"
   ]
  },
  {
   "cell_type": "code",
   "execution_count": 4,
   "metadata": {
    "colab": {
     "base_uri": "https://localhost:8080/",
     "height": 51
    },
    "colab_type": "code",
    "executionInfo": {
     "elapsed": 1606,
     "status": "ok",
     "timestamp": 1575366915458,
     "user": {
      "displayName": "Надежда Демиденко",
      "photoUrl": "https://lh3.googleusercontent.com/a-/AAuE7mA6D7k5OgtG9hzPe8Abs8DfOKAXQoTXaPfn7EY=s64",
      "userId": "05224310221243935536"
     },
     "user_tz": -180
    },
    "id": "0zbFRQdzLxzR",
    "outputId": "16c57093-355e-46c6-d17c-d1c9b08f61be"
   },
   "outputs": [
    {
     "name": "stdout",
     "output_type": "stream",
     "text": [
      "1665426938.785998\n",
      "0.36554653793023495\n"
     ]
    }
   ],
   "source": [
    "import time, random\n",
    "print(time.time())\n",
    "print(random.random())"
   ]
  },
  {
   "cell_type": "markdown",
   "metadata": {
    "colab_type": "text",
    "id": "0jJgLsTuL623"
   },
   "source": [
    "После импортирования модуля его название становится переменной, через которую можно получить доступ к атрибутам модуля. Например, можно обратиться к константе e, расположенной в модуле math:"
   ]
  },
  {
   "cell_type": "code",
   "execution_count": 5,
   "metadata": {
    "colab": {
     "base_uri": "https://localhost:8080/",
     "height": 34
    },
    "colab_type": "code",
    "executionInfo": {
     "elapsed": 890,
     "status": "ok",
     "timestamp": 1575366946777,
     "user": {
      "displayName": "Надежда Демиденко",
      "photoUrl": "https://lh3.googleusercontent.com/a-/AAuE7mA6D7k5OgtG9hzPe8Abs8DfOKAXQoTXaPfn7EY=s64",
      "userId": "05224310221243935536"
     },
     "user_tz": -180
    },
    "id": "pF4b11-_L7sH",
    "outputId": "c7285068-f8fb-4def-c0e2-2366ac25313c"
   },
   "outputs": [
    {
     "name": "stdout",
     "output_type": "stream",
     "text": [
      "2.718281828459045\n"
     ]
    }
   ],
   "source": [
    "import math\n",
    "print(math.e)"
   ]
  },
  {
   "cell_type": "markdown",
   "metadata": {
    "colab_type": "text",
    "id": "p13DEJvfNlvh"
   },
   "source": [
    "### Использование псевдонимов\n",
    "\n",
    "Если название модуля слишком длинное, или оно вам не нравится по каким-то другим причинам, то для него можно создать псевдоним, с помощью ключевого слова `as`.\n",
    "\n",
    "Теперь доступ ко всем атрибутам модуля math осуществляется только с помощью переменной m, а переменной math в этой программе уже не будет."
   ]
  },
  {
   "cell_type": "code",
   "execution_count": 6,
   "metadata": {
    "colab": {
     "base_uri": "https://localhost:8080/",
     "height": 34
    },
    "colab_type": "code",
    "executionInfo": {
     "elapsed": 1063,
     "status": "ok",
     "timestamp": 1575367509174,
     "user": {
      "displayName": "Надежда Демиденко",
      "photoUrl": "https://lh3.googleusercontent.com/a-/AAuE7mA6D7k5OgtG9hzPe8Abs8DfOKAXQoTXaPfn7EY=s64",
      "userId": "05224310221243935536"
     },
     "user_tz": -180
    },
    "id": "-ySNfWHIOE0G",
    "outputId": "d5bf9f55-1135-4c90-aa2c-71056f943a76"
   },
   "outputs": [
    {
     "name": "stdout",
     "output_type": "stream",
     "text": [
      "2.718281828459045\n"
     ]
    }
   ],
   "source": [
    "import math as m\n",
    "print(m.e)"
   ]
  },
  {
   "cell_type": "markdown",
   "metadata": {
    "colab_type": "text",
    "id": "TATqdSrcObfK"
   },
   "source": [
    "### Инструкция from\n",
    "\n",
    "Подключить определенные атрибуты модуля можно с помощью инструкции from. Она имеет несколько форматов:\n",
    "\n",
    "```\n",
    "from <Название модуля> import <Атрибут 1> [ as <Псевдоним 1> ], [<Атрибут 2> [ as <Псевдоним 2> ] ...]\n",
    "from <Название модуля> import *\n",
    "```\n",
    "\n",
    "Первый формат позволяет подключить из модуля только указанные вами атрибуты. Для длинных имен также можно назначить псевдоним, указав его после ключевого слова `as`."
   ]
  },
  {
   "cell_type": "code",
   "execution_count": 7,
   "metadata": {
    "colab": {
     "base_uri": "https://localhost:8080/",
     "height": 51
    },
    "colab_type": "code",
    "executionInfo": {
     "elapsed": 824,
     "status": "ok",
     "timestamp": 1575368355165,
     "user": {
      "displayName": "Надежда Демиденко",
      "photoUrl": "https://lh3.googleusercontent.com/a-/AAuE7mA6D7k5OgtG9hzPe8Abs8DfOKAXQoTXaPfn7EY=s64",
      "userId": "05224310221243935536"
     },
     "user_tz": -180
    },
    "id": "nHbMYOWPRSeQ",
    "outputId": "a6f7402e-fc7f-41d5-c2f5-336a70a59253"
   },
   "outputs": [
    {
     "name": "stdout",
     "output_type": "stream",
     "text": [
      "2.718281828459045\n",
      "5\n"
     ]
    }
   ],
   "source": [
    "from math import e, ceil as c\n",
    "print(e)\n",
    "print(c(4.6))"
   ]
  },
  {
   "cell_type": "markdown",
   "metadata": {
    "colab_type": "text",
    "id": "9h5cUJTPRd-2"
   },
   "source": [
    "Импортируемые атрибуты можно разместить на нескольких строках, если их много, для лучшей читаемости кода:"
   ]
  },
  {
   "cell_type": "code",
   "execution_count": 8,
   "metadata": {
    "colab": {},
    "colab_type": "code",
    "id": "64cizz-9Rmee"
   },
   "outputs": [],
   "source": [
    "from math import (sin, cos,\n",
    "                  tan, atan)"
   ]
  },
  {
   "cell_type": "markdown",
   "metadata": {
    "colab_type": "text",
    "id": "YDQ-IEEzRvnv"
   },
   "source": [
    "Второй формат инструкции from позволяет почти все переменные из модуля. Для примера импортируем все атрибуты из модуля sys.\n",
    "\n",
    "Следует заметить, что не все атрибуты будут импортированы. Если в модуле определена переменная `__all__` (список атрибутов, которые могут быть подключены), то будут подключены только атрибуты из этого списка. Если переменная `__all__` не определена, то будут подключены все атрибуты, не начинающиеся с нижнего подчёркивания. Кроме того, необходимо учитывать, что импортирование всех атрибутов из модуля может нарушить пространство имен главной программы, так как переменные, имеющие одинаковые имена, будут перезаписаны."
   ]
  },
  {
   "cell_type": "code",
   "execution_count": 9,
   "metadata": {
    "colab": {
     "base_uri": "https://localhost:8080/",
     "height": 68
    },
    "colab_type": "code",
    "executionInfo": {
     "elapsed": 1297,
     "status": "ok",
     "timestamp": 1575370503286,
     "user": {
      "displayName": "Надежда Демиденко",
      "photoUrl": "https://lh3.googleusercontent.com/a-/AAuE7mA6D7k5OgtG9hzPe8Abs8DfOKAXQoTXaPfn7EY=s64",
      "userId": "05224310221243935536"
     },
     "user_tz": -180
    },
    "id": "BrDBzuJ2R8kE",
    "outputId": "ce8acf51-f196-4d6c-8b90-8fe54f04127a"
   },
   "outputs": [
    {
     "name": "stdout",
     "output_type": "stream",
     "text": [
      "3.8.5 (default, Sep  4 2020, 02:22:02) \n",
      "[Clang 10.0.0 ]\n",
      "sys.version_info(major=3, minor=8, micro=5, releaselevel='final', serial=0)\n"
     ]
    }
   ],
   "source": [
    "from sys import *\n",
    "print(version)\n",
    "print(version_info)"
   ]
  },
  {
   "cell_type": "markdown",
   "metadata": {
    "colab_type": "text",
    "id": "DxaRLoUESbIl"
   },
   "source": [
    "## Создание модуля\n",
    "\n",
    "Можно использовать как библиотеку и самостоятельно созданный файл с функциями. Он подключается так же, как и стандартные библиотеки - через имя файла.\n",
    "\n",
    "При импортировании модуля его код выполняется полностью. То есть, если программа что-то печатает, то при её импортировании это будет напечатано. Этого можно избежать, если проверять, запущен ли скрипт как программа, или импортирован. Это можно сделать с помощью переменной `__name__`, которая определена в любой программе, и равна \"`__main__`\", если скрипт запущен в качестве главной программы, и имя, если он импортирован.\n",
    "\n",
    "Пример такого кода:"
   ]
  },
  {
   "cell_type": "code",
   "execution_count": 19,
   "metadata": {
    "colab": {},
    "colab_type": "code",
    "id": "LUiv-bPZTHfK"
   },
   "outputs": [
    {
     "name": "stdout",
     "output_type": "stream",
     "text": [
      "Hello, world!\n",
      "1\n",
      "1\n",
      "1\n",
      "2\n",
      "3\n",
      "5\n",
      "8\n",
      "13\n",
      "21\n",
      "34\n"
     ]
    }
   ],
   "source": [
    "def hello():\n",
    "    print('Hello, world!')\n",
    "\n",
    "def fib(n):\n",
    "    a = b = 1\n",
    "    for i in range(n - 2):\n",
    "        a, b = b, a + b\n",
    "    return b\n",
    "\n",
    "if __name__ == \"__main__\":\n",
    "    hello()\n",
    "    for i in range(10):\n",
    "        print(fib(i))"
   ]
  },
  {
   "cell_type": "code",
   "execution_count": 18,
   "metadata": {},
   "outputs": [
    {
     "data": {
      "text/plain": [
       "'__main__'"
      ]
     },
     "execution_count": 18,
     "metadata": {},
     "output_type": "execute_result"
    }
   ],
   "source": [
    "__name__"
   ]
  },
  {
   "cell_type": "code",
   "execution_count": 1,
   "metadata": {},
   "outputs": [
    {
     "name": "stdout",
     "output_type": "stream",
     "text": [
      "our_module\n"
     ]
    }
   ],
   "source": [
    "import our_module"
   ]
  },
  {
   "cell_type": "code",
   "execution_count": 12,
   "metadata": {},
   "outputs": [
    {
     "data": {
      "text/plain": [
       "<function our_module.fib(n)>"
      ]
     },
     "execution_count": 12,
     "metadata": {},
     "output_type": "execute_result"
    }
   ],
   "source": [
    "our_module.fib"
   ]
  },
  {
   "cell_type": "code",
   "execution_count": 13,
   "metadata": {},
   "outputs": [],
   "source": [
    "from our_module import fib"
   ]
  },
  {
   "cell_type": "code",
   "execution_count": 14,
   "metadata": {},
   "outputs": [
    {
     "data": {
      "text/plain": [
       "<function our_module.fib(n)>"
      ]
     },
     "execution_count": 14,
     "metadata": {},
     "output_type": "execute_result"
    }
   ],
   "source": [
    "fib"
   ]
  },
  {
   "cell_type": "markdown",
   "metadata": {
    "colab_type": "text",
    "id": "ehBiYfGsU9v5"
   },
   "source": [
    "## Система управления пакетами pip\n",
    "\n",
    "Для установки пакетов Python будет использоваться pip. Это система управления пакетами, которая используется для установки пакетов из Python Package Index (PyPI). Скорее всего, если у вас уже установлен Python, то установлен и pip.\n",
    "\n",
    "**Примечание**. В Jupyter Notebook есть возможность исполнять команды командной строки операционной системы (т.е. это не питоновские скрипты, а прямое обращение к системе на понятном ей языке команд. Для макбука и линукса это bash, а для винды - ее собственный ужасный диалект). Чтобы исполнить команды командной строки прямо в блокноте, нужно добавить `!` в начале строки.\n",
    "\n",
    "Проверка версии pip:"
   ]
  },
  {
   "cell_type": "code",
   "execution_count": 3,
   "metadata": {
    "colab": {
     "base_uri": "https://localhost:8080/",
     "height": 34
    },
    "colab_type": "code",
    "executionInfo": {
     "elapsed": 3373,
     "status": "ok",
     "timestamp": 1575369458409,
     "user": {
      "displayName": "Надежда Демиденко",
      "photoUrl": "https://lh3.googleusercontent.com/a-/AAuE7mA6D7k5OgtG9hzPe8Abs8DfOKAXQoTXaPfn7EY=s64",
      "userId": "05224310221243935536"
     },
     "user_tz": -180
    },
    "id": "30l9alUrVBS8",
    "outputId": "ac135ac4-dac5-49f9-802a-c22ffa42754c"
   },
   "outputs": [
    {
     "name": "stdout",
     "output_type": "stream",
     "text": [
      "Requirement already satisfied: pip in /home/aymichael/anaconda3/lib/python3.9/site-packages (21.2.4)\n",
      "Collecting pip\n",
      "  Downloading pip-22.3.1-py3-none-any.whl (2.1 MB)\n",
      "\u001b[K     |████████████████████████████████| 2.1 MB 321 kB/s eta 0:00:01\n",
      "\u001b[?25hInstalling collected packages: pip\n",
      "  Attempting uninstall: pip\n",
      "    Found existing installation: pip 21.2.4\n",
      "    Uninstalling pip-21.2.4:\n",
      "      Successfully uninstalled pip-21.2.4\n",
      "Successfully installed pip-22.3.1\n"
     ]
    }
   ],
   "source": [
    "!pip install --upgrade pip"
   ]
  },
  {
   "cell_type": "markdown",
   "metadata": {
    "colab_type": "text",
    "id": "4k19m70DVqB9"
   },
   "source": [
    "> **Примечание:**\n",
    ">\n",
    "> *В зависимости от того, как установлен и настроен Python в системе, может потребоваться использовать pip3 вместо pip.*"
   ]
  },
  {
   "cell_type": "markdown",
   "metadata": {
    "colab_type": "text",
    "id": "NyVkOrs0VUDX"
   },
   "source": [
    "Установка пакета:\n",
    "\n",
    "`pip install tabulate`\n",
    "\n",
    "Обновление пакета:\n",
    "\n",
    "`pip install --upgrade tabulate`\n",
    "\n",
    "Установка пакета конкретной версии:\n",
    "\n",
    "`pip install tabulate==2.6.0`\n",
    "\n",
    "Удаление пакета:\n",
    "\n",
    "`pip uninstall tabulate`"
   ]
  },
  {
   "cell_type": "markdown",
   "metadata": {
    "colab_type": "text",
    "id": "5GuZtlZDWSpj"
   },
   "source": [
    "По умолчанию pip устанавливает пакеты в системную директорию.\n",
    "\n",
    "Опция `--user` позволяет установить пакет в домашнюю директорию пользователя от имени пользователя."
   ]
  },
  {
   "cell_type": "code",
   "execution_count": 4,
   "metadata": {
    "colab": {},
    "colab_type": "code",
    "id": "ynhzpADeXecs"
   },
   "outputs": [
    {
     "name": "stdout",
     "output_type": "stream",
     "text": [
      "Requirement already satisfied: pip in /Users/romanov/opt/anaconda3/lib/python3.8/site-packages (21.1.3)\n",
      "Collecting pip\n",
      "  Downloading pip-22.3-py3-none-any.whl (2.1 MB)\n",
      "\u001b[K     |████████████████████████████████| 2.1 MB 1.5 MB/s eta 0:00:01\n",
      "\u001b[?25hInstalling collected packages: pip\n",
      "  Attempting uninstall: pip\n",
      "    Found existing installation: pip 21.1.3\n",
      "    Uninstalling pip-21.1.3:\n",
      "      Successfully uninstalled pip-21.1.3\n",
      "Successfully installed pip-22.3\n"
     ]
    }
   ],
   "source": [
    "!pip install --upgrade pip"
   ]
  },
  {
   "cell_type": "markdown",
   "metadata": {
    "colab_type": "text",
    "id": "9EXmMfXXaHuO"
   },
   "source": [
    "`pip show` выведет информацию о пакете."
   ]
  },
  {
   "cell_type": "code",
   "execution_count": 4,
   "metadata": {
    "colab": {
     "base_uri": "https://localhost:8080/",
     "height": 187
    },
    "colab_type": "code",
    "executionInfo": {
     "elapsed": 5190,
     "status": "ok",
     "timestamp": 1575639193333,
     "user": {
      "displayName": "Надежда Демиденко",
      "photoUrl": "https://lh3.googleusercontent.com/a-/AAuE7mA6D7k5OgtG9hzPe8Abs8DfOKAXQoTXaPfn7EY=s64",
      "userId": "05224310221243935536"
     },
     "user_tz": -180
    },
    "id": "yiOIM1c0aLWn",
    "outputId": "7d25c527-0b8f-4eee-910e-ba6597416884"
   },
   "outputs": [
    {
     "name": "stdout",
     "output_type": "stream",
     "text": [
      "Name: numpy\r\n",
      "Version: 1.21.5\r\n",
      "Summary: NumPy is the fundamental package for array computing with Python.\r\n",
      "Home-page: https://www.numpy.org\r\n",
      "Author: Travis E. Oliphant et al.\r\n",
      "Author-email: \r\n",
      "License: BSD\r\n",
      "Location: /home/aymichael/anaconda3/lib/python3.9/site-packages\r\n",
      "Requires: \r\n",
      "Required-by: astropy, bkcharts, bokeh, Bottleneck, daal4py, datashader, datashape, gensim, h5py, holoviews, hvplot, imagecodecs, imageio, matplotlib, mkl-fft, mkl-random, numba, numexpr, pandas, patsy, pyerfa, PyWavelets, scikit-image, scikit-learn, scipy, seaborn, statsmodels, tables, tifffile, xarray\r\n"
     ]
    }
   ],
   "source": [
    "!pip show numpy"
   ]
  },
  {
   "cell_type": "markdown",
   "metadata": {
    "colab_type": "text",
    "id": "rHb1iJHqaiAm"
   },
   "source": [
    "`pip list` выведет список всех установленных в данном окружении пакетов"
   ]
  },
  {
   "cell_type": "code",
   "execution_count": 5,
   "metadata": {
    "colab": {
     "base_uri": "https://localhost:8080/",
     "height": 1000
    },
    "colab_type": "code",
    "executionInfo": {
     "elapsed": 3310,
     "status": "ok",
     "timestamp": 1575639234779,
     "user": {
      "displayName": "Надежда Демиденко",
      "photoUrl": "https://lh3.googleusercontent.com/a-/AAuE7mA6D7k5OgtG9hzPe8Abs8DfOKAXQoTXaPfn7EY=s64",
      "userId": "05224310221243935536"
     },
     "user_tz": -180
    },
    "id": "i6EZDhoOap0M",
    "outputId": "c14a76f9-0145-4158-ae4c-44c5743b2e96"
   },
   "outputs": [
    {
     "name": "stdout",
     "output_type": "stream",
     "text": [
      "Package                       Version\r\n",
      "----------------------------- --------------------\r\n",
      "aiohttp                       3.8.1\r\n",
      "aiosignal                     1.2.0\r\n",
      "alabaster                     0.7.12\r\n",
      "anaconda-client               1.9.0\r\n",
      "anaconda-navigator            2.3.2\r\n",
      "anaconda-project              0.10.2\r\n",
      "anyio                         3.5.0\r\n",
      "appdirs                       1.4.4\r\n",
      "argon2-cffi                   21.3.0\r\n",
      "argon2-cffi-bindings          21.2.0\r\n",
      "arrow                         1.2.2\r\n",
      "astroid                       2.6.6\r\n",
      "astropy                       5.0.4\r\n",
      "asttokens                     2.0.5\r\n",
      "async-timeout                 4.0.1\r\n",
      "atomicwrites                  1.4.0\r\n",
      "attrs                         21.4.0\r\n",
      "Automat                       20.2.0\r\n",
      "autopep8                      1.6.0\r\n",
      "Babel                         2.9.1\r\n",
      "backcall                      0.2.0\r\n",
      "backports.functools-lru-cache 1.6.4\r\n",
      "backports.tempfile            1.0\r\n",
      "backports.weakref             1.0.post1\r\n",
      "bcrypt                        3.2.0\r\n",
      "beautifulsoup4                4.11.1\r\n",
      "binaryornot                   0.4.4\r\n",
      "bitarray                      2.4.1\r\n",
      "bkcharts                      0.2\r\n",
      "black                         19.10b0\r\n",
      "bleach                        4.1.0\r\n",
      "bokeh                         2.4.2\r\n",
      "boto3                         1.21.32\r\n",
      "botocore                      1.24.32\r\n",
      "Bottleneck                    1.3.4\r\n",
      "brotlipy                      0.7.0\r\n",
      "cachetools                    4.2.2\r\n",
      "certifi                       2021.10.8\r\n",
      "cffi                          1.15.0\r\n",
      "chardet                       4.0.0\r\n",
      "charset-normalizer            2.0.4\r\n",
      "click                         8.0.4\r\n",
      "cloudpickle                   2.0.0\r\n",
      "clyent                        1.2.2\r\n",
      "colorama                      0.4.4\r\n",
      "colorcet                      2.0.6\r\n",
      "conda                         22.9.0\r\n",
      "conda-build                   3.21.8\r\n",
      "conda-content-trust           0+unknown\r\n",
      "conda-pack                    0.6.0\r\n",
      "conda-package-handling        1.8.1\r\n",
      "conda-repo-cli                1.0.4\r\n",
      "conda-token                   0.3.0\r\n",
      "conda-verify                  3.4.2\r\n",
      "constantly                    15.1.0\r\n",
      "cookiecutter                  1.7.3\r\n",
      "cpplint                       1.6.0\r\n",
      "cryptography                  3.4.8\r\n",
      "cssselect                     1.1.0\r\n",
      "cycler                        0.11.0\r\n",
      "Cython                        0.29.28\r\n",
      "cytoolz                       0.11.0\r\n",
      "daal4py                       2021.5.0\r\n",
      "dask                          2022.2.1\r\n",
      "datashader                    0.13.0\r\n",
      "datashape                     0.5.4\r\n",
      "debugpy                       1.5.1\r\n",
      "decorator                     5.1.1\r\n",
      "defusedxml                    0.7.1\r\n",
      "diff-match-patch              20200713\r\n",
      "distributed                   2022.2.1\r\n",
      "docutils                      0.17.1\r\n",
      "entrypoints                   0.4\r\n",
      "et-xmlfile                    1.1.0\r\n",
      "executing                     0.8.3\r\n",
      "fastjsonschema                2.15.1\r\n",
      "filelock                      3.6.0\r\n",
      "flake8                        3.9.2\r\n",
      "Flask                         1.1.2\r\n",
      "fonttools                     4.25.0\r\n",
      "frozenlist                    1.2.0\r\n",
      "fsspec                        2022.2.0\r\n",
      "future                        0.18.2\r\n",
      "gensim                        4.1.2\r\n",
      "glob2                         0.7\r\n",
      "gmpy2                         2.1.2\r\n",
      "google-api-core               1.25.1\r\n",
      "google-auth                   1.33.0\r\n",
      "google-cloud-core             1.7.1\r\n",
      "google-cloud-storage          1.31.0\r\n",
      "google-crc32c                 1.1.2\r\n",
      "google-resumable-media        1.3.1\r\n",
      "googleapis-common-protos      1.53.0\r\n",
      "greenlet                      1.1.1\r\n",
      "grpcio                        1.42.0\r\n",
      "h5py                          3.6.0\r\n",
      "HeapDict                      1.0.1\r\n",
      "holoviews                     1.14.8\r\n",
      "hvplot                        0.7.3\r\n",
      "hyperlink                     21.0.0\r\n",
      "idna                          3.3\r\n",
      "imagecodecs                   2021.8.26\r\n",
      "imageio                       2.9.0\r\n",
      "imagesize                     1.3.0\r\n",
      "importlib-metadata            4.11.3\r\n",
      "incremental                   21.3.0\r\n",
      "inflection                    0.5.1\r\n",
      "iniconfig                     1.1.1\r\n",
      "intake                        0.6.5\r\n",
      "intervaltree                  3.1.0\r\n",
      "ipykernel                     6.9.1\r\n",
      "ipython                       8.2.0\r\n",
      "ipython-genutils              0.2.0\r\n",
      "ipywidgets                    7.6.5\r\n",
      "isort                         5.9.3\r\n",
      "itemadapter                   0.3.0\r\n",
      "itemloaders                   1.0.4\r\n",
      "itsdangerous                  2.0.1\r\n",
      "jdcal                         1.4.1\r\n",
      "jedi                          0.18.1\r\n",
      "jeepney                       0.7.1\r\n",
      "Jinja2                        2.11.3\r\n",
      "jinja2-time                   0.2.0\r\n",
      "jmespath                      0.10.0\r\n",
      "joblib                        1.1.0\r\n",
      "json5                         0.9.6\r\n",
      "jsonschema                    4.4.0\r\n",
      "jupyter                       1.0.0\r\n",
      "jupyter-client                6.1.12\r\n",
      "jupyter-console               6.4.0\r\n",
      "jupyter-core                  4.9.2\r\n",
      "jupyter-server                1.13.5\r\n",
      "jupyterlab                    3.3.2\r\n",
      "jupyterlab-pygments           0.1.2\r\n",
      "jupyterlab-server             2.10.3\r\n",
      "jupyterlab-widgets            1.0.0\r\n",
      "keyring                       23.4.0\r\n",
      "kiwisolver                    1.3.2\r\n",
      "lazy-object-proxy             1.6.0\r\n",
      "libarchive-c                  2.9\r\n",
      "llvmlite                      0.38.0\r\n",
      "locket                        0.2.1\r\n",
      "lxml                          4.8.0\r\n",
      "Markdown                      3.3.4\r\n",
      "MarkupSafe                    2.0.1\r\n",
      "matplotlib                    3.5.1\r\n",
      "matplotlib-inline             0.1.2\r\n",
      "mccabe                        0.6.1\r\n",
      "mistune                       0.8.4\r\n",
      "mkl-fft                       1.3.1\r\n",
      "mkl-random                    1.2.2\r\n",
      "mkl-service                   2.4.0\r\n",
      "mock                          4.0.3\r\n",
      "mpmath                        1.2.1\r\n",
      "msgpack                       1.0.2\r\n",
      "multidict                     5.2.0\r\n",
      "multipledispatch              0.6.0\r\n",
      "munkres                       1.1.4\r\n",
      "mypy-extensions               0.4.3\r\n",
      "navigator-updater             0.2.1\r\n",
      "nbclassic                     0.3.5\r\n",
      "nbclient                      0.5.13\r\n",
      "nbconvert                     6.4.4\r\n",
      "nbformat                      5.3.0\r\n",
      "nest-asyncio                  1.5.5\r\n",
      "networkx                      2.7.1\r\n",
      "nltk                          3.7\r\n",
      "nose                          1.3.7\r\n",
      "notebook                      6.4.8\r\n",
      "numba                         0.55.1\r\n",
      "numexpr                       2.8.1\r\n",
      "numpy                         1.21.5\r\n",
      "numpydoc                      1.2\r\n",
      "olefile                       0.46\r\n",
      "openpyxl                      3.0.9\r\n",
      "packaging                     21.3\r\n",
      "pandas                        1.4.2\r\n",
      "pandocfilters                 1.5.0\r\n",
      "panel                         0.13.0\r\n",
      "param                         1.12.0\r\n",
      "parsel                        1.6.0\r\n",
      "parso                         0.8.3\r\n",
      "partd                         1.2.0\r\n",
      "pathspec                      0.7.0\r\n",
      "patsy                         0.5.2\r\n",
      "pep8                          1.7.1\r\n",
      "pexpect                       4.8.0\r\n",
      "pickleshare                   0.7.5\r\n",
      "Pillow                        9.0.1\r\n",
      "pip                           22.3.1\r\n",
      "pkginfo                       1.8.2\r\n",
      "plotly                        5.6.0\r\n",
      "pluggy                        1.0.0\r\n",
      "poyo                          0.5.0\r\n",
      "prometheus-client             0.13.1\r\n",
      "prompt-toolkit                3.0.20\r\n",
      "Protego                       0.1.16\r\n",
      "protobuf                      3.19.1\r\n",
      "psutil                        5.8.0\r\n",
      "ptyprocess                    0.7.0\r\n",
      "pure-eval                     0.2.2\r\n",
      "py                            1.11.0\r\n",
      "pyasn1                        0.4.8\r\n",
      "pyasn1-modules                0.2.8\r\n",
      "pycodestyle                   2.7.0\r\n",
      "pycosat                       0.6.3\r\n",
      "pycparser                     2.21\r\n",
      "pyct                          0.4.6\r\n",
      "pycurl                        7.44.1\r\n",
      "PyDispatcher                  2.0.5\r\n",
      "pydocstyle                    6.1.1\r\n",
      "pyerfa                        2.0.0\r\n",
      "pyflakes                      2.3.1\r\n",
      "Pygments                      2.11.2\r\n",
      "PyHamcrest                    2.0.2\r\n",
      "PyJWT                         2.1.0\r\n",
      "pylint                        2.9.6\r\n",
      "pyls-spyder                   0.4.0\r\n",
      "pyodbc                        4.0.32\r\n",
      "pyOpenSSL                     21.0.0\r\n",
      "pyparsing                     3.0.4\r\n",
      "pyrsistent                    0.18.0\r\n",
      "PySocks                       1.7.1\r\n",
      "pytest                        7.1.1\r\n",
      "python-dateutil               2.8.2\r\n",
      "python-lsp-black              1.0.0\r\n",
      "python-lsp-jsonrpc            1.0.0\r\n",
      "python-lsp-server             1.2.4\r\n",
      "python-slugify                5.0.2\r\n",
      "python-snappy                 0.6.0\r\n",
      "pytz                          2021.3\r\n",
      "pyviz-comms                   2.0.2\r\n",
      "PyWavelets                    1.3.0\r\n",
      "pyxdg                         0.27\r\n",
      "PyYAML                        6.0\r\n",
      "pyzmq                         22.3.0\r\n",
      "QDarkStyle                    3.0.2\r\n",
      "qstylizer                     0.1.10\r\n",
      "QtAwesome                     1.0.3\r\n",
      "qtconsole                     5.3.0\r\n",
      "QtPy                          2.0.1\r\n",
      "queuelib                      1.5.0\r\n",
      "regex                         2022.3.15\r\n",
      "requests                      2.27.1\r\n",
      "requests-file                 1.5.1\r\n",
      "rope                          0.22.0\r\n",
      "rsa                           4.7.2\r\n",
      "Rtree                         0.9.7\r\n",
      "ruamel-yaml-conda             0.15.100\r\n",
      "s3transfer                    0.5.0\r\n",
      "scikit-image                  0.19.2\r\n",
      "scikit-learn                  1.0.2\r\n",
      "scikit-learn-intelex          2021.20220215.212715\r\n",
      "scipy                         1.7.3\r\n",
      "Scrapy                        2.6.1\r\n",
      "seaborn                       0.11.2\r\n",
      "SecretStorage                 3.3.1\r\n",
      "Send2Trash                    1.8.0\r\n",
      "service-identity              18.1.0\r\n",
      "setuptools                    61.2.0\r\n",
      "sip                           4.19.13\r\n",
      "six                           1.16.0\r\n",
      "smart-open                    5.1.0\r\n",
      "sniffio                       1.2.0\r\n",
      "snowballstemmer               2.2.0\r\n",
      "sortedcollections             2.1.0\r\n",
      "sortedcontainers              2.4.0\r\n",
      "soupsieve                     2.3.1\r\n",
      "Sphinx                        4.4.0\r\n",
      "sphinxcontrib-applehelp       1.0.2\r\n",
      "sphinxcontrib-devhelp         1.0.2\r\n",
      "sphinxcontrib-htmlhelp        2.0.0\r\n",
      "sphinxcontrib-jsmath          1.0.1\r\n",
      "sphinxcontrib-qthelp          1.0.3\r\n",
      "sphinxcontrib-serializinghtml 1.1.5\r\n",
      "spyder                        5.1.5\r\n",
      "spyder-kernels                2.1.3\r\n",
      "SQLAlchemy                    1.4.32\r\n",
      "stack-data                    0.2.0\r\n",
      "statsmodels                   0.13.2\r\n",
      "sympy                         1.10.1\r\n",
      "tables                        3.6.1\r\n",
      "tabulate                      0.8.9\r\n",
      "TBB                           0.2\r\n",
      "tblib                         1.7.0\r\n",
      "tenacity                      8.0.1\r\n",
      "terminado                     0.13.1\r\n",
      "testpath                      0.5.0\r\n",
      "text-unidecode                1.3\r\n",
      "textdistance                  4.2.1\r\n",
      "threadpoolctl                 2.2.0\r\n",
      "three-merge                   0.1.1\r\n",
      "tifffile                      2021.7.2\r\n",
      "tinycss                       0.4\r\n",
      "tldextract                    3.2.0\r\n",
      "toml                          0.10.2\r\n",
      "tomli                         1.2.2\r\n",
      "toolz                         0.11.2\r\n",
      "tornado                       6.1\r\n",
      "tqdm                          4.64.0\r\n",
      "traitlets                     5.1.1\r\n",
      "Twisted                       22.2.0\r\n",
      "typed-ast                     1.4.3\r\n",
      "typing_extensions             4.1.1\r\n",
      "ujson                         5.1.0\r\n",
      "Unidecode                     1.2.0\r\n",
      "urllib3                       1.26.9\r\n",
      "w3lib                         1.21.0\r\n",
      "watchdog                      2.1.6\r\n",
      "wcwidth                       0.2.5\r\n",
      "webencodings                  0.5.1\r\n",
      "websocket-client              0.58.0\r\n",
      "Werkzeug                      2.0.3\r\n",
      "wheel                         0.37.1\r\n",
      "widgetsnbextension            3.5.2\r\n",
      "wrapt                         1.12.1\r\n",
      "wurlitzer                     3.0.2\r\n",
      "xarray                        0.20.1\r\n",
      "xlrd                          2.0.1\r\n",
      "XlsxWriter                    3.0.3\r\n",
      "yapf                          0.31.0\r\n",
      "yarl                          1.6.3\r\n",
      "zict                          2.0.0\r\n",
      "zipp                          3.7.0\r\n",
      "zope.interface                5.4.0\r\n"
     ]
    }
   ],
   "source": [
    "!pip list"
   ]
  },
  {
   "cell_type": "markdown",
   "metadata": {
    "colab_type": "text",
    "id": "YyQKBXNNW9sL"
   },
   "source": [
    "## Виртуальное окружение\n",
    "\n",
    "Виртуальное окружение - это изолированное окружение среды, которое позволяет нам использовать определенные версии приложений.\n",
    "\n",
    "Все пакеты, работающие с виртуальным окружением решают одну проблему - они позволяют проектам, которые имеют различные (и часто конфликтующие) зависимости, сосуществовать на одной системе.\n",
    "\n",
    "Некоторые пакеты для работы с виртуальными окружениями:\n",
    "\n",
    "- **Virtualenv**\n",
    "\n",
    "`virtualenv` - стандартный пакет для работы с виртуальным окружением. Используется вместе с virtualenvwrapper для более удобной работы.\n",
    "\n",
    "Установка: `pip install virtualenv`\n",
    "\n",
    "\n",
    "- **Conda**\n",
    "\n",
    "Conda - пакетный менеджер, который также позволяет нам создавать виртуальные окружения.\n",
    "\n",
    "Начиная с Python 3.3 и 3.4, рекомендуемый способ создания виртуального пространства – это использование инструмента командной строки **pyvenv**, который также включен в инсталляцию Python 3 по умолчанию. Однако в версии 3.6 и выше, вам нужен **python -m venv**. Начиная с 3.7, чаще всего принято использовать conda, но всё зависит от компании и коллектива."
   ]
  },
  {
   "cell_type": "markdown",
   "metadata": {
    "colab_type": "text",
    "id": "JFh_bdmtRt86"
   },
   "source": [
    "Новая виртуальная среда в **venv** создается при помощи команды:\n",
    "\n",
    "```\n",
    "python -m venv env\n",
    "```\n",
    "\n",
    "Эта команда создает каталог под названием \"env\", структура каталога которого схожа со следующей:\n",
    "\n",
    "```\n",
    "├── bin\n",
    "│   ├── activate\n",
    "│   ├── activate.csh\n",
    "│   ├── activate.fish\n",
    "│   ├── easy_install\n",
    "│   ├── easy_install-3.5\n",
    "│   ├── pip\n",
    "│   ├── pip3\n",
    "│   ├── pip3.5\n",
    "│   ├── python -> python3.5\n",
    "│   ├── python3 -> python3.5\n",
    "│   └── python3.5 -> /Library/Frameworks/Python.framework/Versions/3.5/bin/python3.5\n",
    "├── include\n",
    "├── lib\n",
    "│   └── python3.5\n",
    "│       └── site-packages\n",
    "└── pyvenv.cfg\n",
    "```\n",
    "\n",
    "- **bin** – файлы, которые взаимодействуют с виртуальной средой;\n",
    "- **include** – С-заголовки, компилирующие пакеты Python;\n",
    "- **lib** – копия версии Python вместе с папкой \"site-packages\", в которой установлена каждая зависимость.\n",
    "\n",
    "Чтобы использовать эти пакеты (или ресурсы) среды в изоляции, вам нужно «активировать» их, запустив скрипт **activate** в каталоге \"bin\":\n",
    "\n",
    "```\n",
    "source env/bin/activate\n",
    "```\n",
    "\n",
    "Приглашение командной строки теперь носит префикс вашей среды (в нашем случае – env). Это индикатор того, что env в данный момент активен, что в свою очередь говорит о том, что выполнимые файлы Python используют пакеты и настройки только этой среды.\n",
    "\n",
    "```\n",
    "(env) $\n",
    "```\n",
    "\n",
    "Находясь в одном из окружений, можно ставить пакеты через pip, как обычно:\n",
    "\n",
    "```\n",
    "pip install flask\n",
    "```\n",
    "\n",
    "Список зависимостей проекта принято сохранять в файл с именем requirements.txt:\n",
    "\n",
    "```\n",
    "pip freeze > requirements.txt\n",
    "```\n",
    "\n",
    "Этот подход позволяет одной командой установить все зависимости, необходимые проекту:\n",
    "\n",
    "```\n",
    "pip install -r requirements.txt\n",
    "```\n",
    "\n",
    "Команда **deactivate** возвращает назад в контекст «system»."
   ]
  },
  {
   "cell_type": "markdown",
   "metadata": {},
   "source": [
    "## Задание\n",
    "\n",
    "Установите пакет `stupidity` и импортируйте все требуемые объекты оттуда, чтобы заработал код в следующей ячейке:"
   ]
  },
  {
   "cell_type": "code",
   "execution_count": null,
   "metadata": {},
   "outputs": [],
   "source": [
    "for case in switch('b'):\n",
    "    with case('a'):\n",
    "        print('this is not printed')\n",
    "    with case('b'):\n",
    "        print('this is printed')\n",
    "    with case('c'):\n",
    "        print('fallthrough is also supported')\n",
    "        break\n",
    "    with case('d'):\n",
    "        print('this is not printed either')\n",
    "    print('default value at bottom, but this is not reached')\n",
    "    \n",
    "    \n",
    "x = 42;\n",
    "if (x == 123): {\n",
    "    print('nope')\n",
    "}\n",
    "elif (x == 42): {\n",
    "    print('yep')\n",
    "}"
   ]
  },
  {
   "cell_type": "markdown",
   "metadata": {},
   "source": [
    "Да, это абсолютно бессмысленный пакет, который позволяет сделать синтаксис питона больше похожим на С. Пожалуйста, никогда и нигде его не используйте =)"
   ]
  },
  {
   "cell_type": "code",
   "execution_count": null,
   "metadata": {},
   "outputs": [],
   "source": []
  }
 ],
 "metadata": {
  "colab": {
   "name": "topic08.ipynb",
   "provenance": []
  },
  "kernelspec": {
   "display_name": "Python 3 (ipykernel)",
   "language": "python",
   "name": "python3"
  },
  "language_info": {
   "codemirror_mode": {
    "name": "ipython",
    "version": 3
   },
   "file_extension": ".py",
   "mimetype": "text/x-python",
   "name": "python",
   "nbconvert_exporter": "python",
   "pygments_lexer": "ipython3",
   "version": "3.9.12"
  }
 },
 "nbformat": 4,
 "nbformat_minor": 1
}
