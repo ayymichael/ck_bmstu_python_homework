{
 "cells": [
  {
   "cell_type": "markdown",
   "metadata": {},
   "source": [
    "# Методы доступа к атрибутам\n",
    "\n",
    "https://github.com/alexopryshko/advancedpython/tree/master/1\n",
    "\n",
    "В питоне есть еще группа магических методов, которые вызываются при доступе к атрибутам со стороны объекта вызывающего класса:\n",
    "\n",
    "- `__getattribute__(self, name)` - будет вызван при попытке получить значение атрибута. Если этот метод переопределён, стандартный механизм поиска значения атрибута не будет задействован. По умолчанию как раз он и лезет в `__dict__` объекта и вызывает в случае неудачи `__getattr__`:\n",
    "- `__getattr__(self, name)` - будет вызван в случае, если запрашиваемый атрибут не найден обычным механизмом (в `__dict__` экземпляра, класса и т.д.)\n",
    "- `__setattr__(self, name, value)` - будет вызван при попытке установить значение атрибута экземпляра. Если его переопределить, стандартный механизм установки значения не будет задействован.\n",
    "- `__delattr__(self, name)` - используется при удалении атрибута.\n",
    "\n",
    "В следующем примере показано, что `__getattr__` вызывается только тогда, когда стандартными средствами (заглянув в `__dict__` объекта и класса) найти атрибут не получается. При этом в нашем случае метод срабатывает для любых значений, не вызывая AttributeError"
   ]
  },
  {
   "cell_type": "code",
   "execution_count": 1,
   "metadata": {},
   "outputs": [
    {
     "name": "stdout",
     "output_type": "stream",
     "text": [
      "{'name': 'name'} {'__module__': '__main__', '__getattr__': <function A.__getattr__ at 0x7f9f00143e50>, 'field': 'field', '__dict__': <attribute '__dict__' of 'A' objects>, '__weakref__': <attribute '__weakref__' of 'A' objects>, '__doc__': None}\n",
      "\n",
      "\n",
      "a.name name\n",
      "\n",
      "a.field field\n",
      "\n",
      "__getattr__\n",
      "a.random 42\n",
      "\n"
     ]
    }
   ],
   "source": [
    "class A:\n",
    "    def __getattr__(self, attr):\n",
    "        print('__getattr__')\n",
    "        return 42\n",
    "\n",
    "    field = 'field'\n",
    "\n",
    "\n",
    "a = A()\n",
    "a.name = 'name'\n",
    "\n",
    "print(a.__dict__, A.__dict__, end='\\n\\n\\n')\n",
    "print('a.name', a.name, end='\\n\\n')\n",
    "print('a.field', a.field, end='\\n\\n')\n",
    "print('a.random', a.random, end='\\n\\n')"
   ]
  },
  {
   "cell_type": "markdown",
   "metadata": {},
   "source": [
    "А если переопределим `__getattribute__`, то даже на `__dict__` посмотреть не сможем."
   ]
  },
  {
   "cell_type": "code",
   "execution_count": 2,
   "metadata": {},
   "outputs": [
    {
     "name": "stdout",
     "output_type": "stream",
     "text": [
      "__getattribute__\n",
      "__dict__ 42\n",
      "\n",
      "__getattribute__\n",
      "a.name 42\n",
      "\n",
      "__getattribute__\n",
      "a.field 42\n",
      "\n",
      "__getattribute__\n",
      "a.random 42\n",
      "\n",
      "__getattribute__\n",
      "a.__len__ 42\n",
      "\n",
      "len(a) 0\n",
      "\n",
      "test <__main__.A object at 0x7f9f5080c910>\n",
      "type(a)... None\n",
      "\n",
      "A.field field\n",
      "\n"
     ]
    }
   ],
   "source": [
    "class A:\n",
    "    def __getattribute__(self, item):\n",
    "        print('__getattribute__')\n",
    "        return 42\n",
    "\n",
    "    def __len__(self):\n",
    "        return 0\n",
    "\n",
    "    def test(self):\n",
    "        print('test', self)\n",
    "\n",
    "    field = 'field'\n",
    "\n",
    "\n",
    "a = A()\n",
    "a.name = 'name'\n",
    "\n",
    "print('__dict__', getattr(a, \"__dict__\"), end='\\n\\n')\n",
    "print('a.name', a.name, end='\\n\\n')\n",
    "print('a.field', a.field, end='\\n\\n')\n",
    "print('a.random', a.random, end='\\n\\n')\n",
    "print('a.__len__', a.__len__, end='\\n\\n')\n",
    "print('len(a)', len(a), end='\\n\\n')\n",
    "print('type(a)...', type(a).__dict__['test'](a), end='\\n\\n')\n",
    "print('A.field', A.field, end='\\n\\n')\n"
   ]
  },
  {
   "cell_type": "markdown",
   "metadata": {},
   "source": [
    "Переопределяя `__setattr__`, рискуем не увидеть наши добавляемые атрибуты объекта в `__dict__`"
   ]
  },
  {
   "cell_type": "code",
   "execution_count": 3,
   "metadata": {},
   "outputs": [
    {
     "name": "stdout",
     "output_type": "stream",
     "text": [
      "__setattr__\n",
      "__setattr__\n",
      "a.__dict__ {}\n",
      "\n",
      "A.field new\n",
      "\n"
     ]
    }
   ],
   "source": [
    "class A:\n",
    "    def __setattr__(self, key, value):\n",
    "        print('__setattr__')\n",
    "\n",
    "    field = 'field'\n",
    "\n",
    "\n",
    "a = A()\n",
    "a.field = 1\n",
    "a.a = 1\n",
    "print('a.__dict__', a.__dict__, end='\\n\\n')\n",
    "A.field = 'new'\n",
    "print('A.field', A.field, end='\\n\\n')"
   ]
  },
  {
   "cell_type": "code",
   "execution_count": 4,
   "metadata": {},
   "outputs": [
    {
     "data": {
      "text/plain": [
       "'new'"
      ]
     },
     "execution_count": 4,
     "metadata": {},
     "output_type": "execute_result"
    }
   ],
   "source": [
    "a.field"
   ]
  },
  {
   "cell_type": "code",
   "execution_count": 5,
   "metadata": {},
   "outputs": [
    {
     "ename": "AttributeError",
     "evalue": "'A' object has no attribute 'a'",
     "output_type": "error",
     "traceback": [
      "\u001b[0;31m---------------------------------------------------------------------------\u001b[0m",
      "\u001b[0;31mAttributeError\u001b[0m                            Traceback (most recent call last)",
      "\u001b[0;32m<ipython-input-5-bd42e36bf217>\u001b[0m in \u001b[0;36m<module>\u001b[0;34m\u001b[0m\n\u001b[0;32m----> 1\u001b[0;31m \u001b[0ma\u001b[0m\u001b[0;34m.\u001b[0m\u001b[0ma\u001b[0m\u001b[0;34m\u001b[0m\u001b[0;34m\u001b[0m\u001b[0m\n\u001b[0m",
      "\u001b[0;31mAttributeError\u001b[0m: 'A' object has no attribute 'a'"
     ]
    }
   ],
   "source": [
    "a.a"
   ]
  },
  {
   "cell_type": "markdown",
   "metadata": {},
   "source": [
    "А таким образом можем разрешить нашему объекту возвращать только те атрибуты, название которых начинается на слово test. Теоретически, используя этот прием, можно реализовать истинно приватные атрибуты, но зачем?"
   ]
  },
  {
   "cell_type": "code",
   "execution_count": 6,
   "metadata": {},
   "outputs": [
    {
     "name": "stdout",
     "output_type": "stream",
     "text": [
      "a.__dict__ {'test_name': 1, 'name': 1}\n",
      "a.test_name 1\n"
     ]
    },
    {
     "ename": "AttributeError",
     "evalue": "",
     "output_type": "error",
     "traceback": [
      "\u001b[0;31m---------------------------------------------------------------------------\u001b[0m",
      "\u001b[0;31mAttributeError\u001b[0m                            Traceback (most recent call last)",
      "\u001b[0;32m<ipython-input-6-d32120505f02>\u001b[0m in \u001b[0;36m<module>\u001b[0;34m\u001b[0m\n\u001b[1;32m     12\u001b[0m \u001b[0mprint\u001b[0m\u001b[0;34m(\u001b[0m\u001b[0;34m'a.__dict__'\u001b[0m\u001b[0;34m,\u001b[0m \u001b[0ma\u001b[0m\u001b[0;34m.\u001b[0m\u001b[0m__dict__\u001b[0m\u001b[0;34m)\u001b[0m\u001b[0;34m\u001b[0m\u001b[0;34m\u001b[0m\u001b[0m\n\u001b[1;32m     13\u001b[0m \u001b[0mprint\u001b[0m\u001b[0;34m(\u001b[0m\u001b[0;34m'a.test_name'\u001b[0m\u001b[0;34m,\u001b[0m \u001b[0ma\u001b[0m\u001b[0;34m.\u001b[0m\u001b[0mtest_name\u001b[0m\u001b[0;34m)\u001b[0m\u001b[0;34m\u001b[0m\u001b[0;34m\u001b[0m\u001b[0m\n\u001b[0;32m---> 14\u001b[0;31m \u001b[0mprint\u001b[0m\u001b[0;34m(\u001b[0m\u001b[0;34m'a.name'\u001b[0m\u001b[0;34m,\u001b[0m \u001b[0ma\u001b[0m\u001b[0;34m.\u001b[0m\u001b[0mname\u001b[0m\u001b[0;34m)\u001b[0m\u001b[0;34m\u001b[0m\u001b[0;34m\u001b[0m\u001b[0m\n\u001b[0m",
      "\u001b[0;32m<ipython-input-6-d32120505f02>\u001b[0m in \u001b[0;36m__getattribute__\u001b[0;34m(self, item)\u001b[0m\n\u001b[1;32m      4\u001b[0m             \u001b[0;32mreturn\u001b[0m \u001b[0msuper\u001b[0m\u001b[0;34m(\u001b[0m\u001b[0;34m)\u001b[0m\u001b[0;34m.\u001b[0m\u001b[0m__getattribute__\u001b[0m\u001b[0;34m(\u001b[0m\u001b[0mitem\u001b[0m\u001b[0;34m)\u001b[0m\u001b[0;34m\u001b[0m\u001b[0;34m\u001b[0m\u001b[0m\n\u001b[1;32m      5\u001b[0m         \u001b[0;32melse\u001b[0m\u001b[0;34m:\u001b[0m\u001b[0;34m\u001b[0m\u001b[0;34m\u001b[0m\u001b[0m\n\u001b[0;32m----> 6\u001b[0;31m             \u001b[0;32mraise\u001b[0m \u001b[0mAttributeError\u001b[0m\u001b[0;34m\u001b[0m\u001b[0;34m\u001b[0m\u001b[0m\n\u001b[0m\u001b[1;32m      7\u001b[0m \u001b[0;34m\u001b[0m\u001b[0m\n\u001b[1;32m      8\u001b[0m \u001b[0;34m\u001b[0m\u001b[0m\n",
      "\u001b[0;31mAttributeError\u001b[0m: "
     ]
    }
   ],
   "source": [
    "class A:\n",
    "    def __getattribute__(self, item):\n",
    "        if 'test' in item or '__dict__' == item:\n",
    "            return super().__getattribute__(item)\n",
    "        else:\n",
    "            raise AttributeError\n",
    "\n",
    "\n",
    "a = A()\n",
    "a.test_name = 1\n",
    "a.name = 1\n",
    "print('a.__dict__', a.__dict__)\n",
    "print('a.test_name', a.test_name)\n",
    "print('a.name', a.name)"
   ]
  },
  {
   "cell_type": "markdown",
   "metadata": {},
   "source": [
    "## Общий алгоритм получения атрибута\n",
    "\n",
    "Чтобы получить значение атрибута attrname:\n",
    "- Если определён метод `a.__class__.__getattribute__()`, то вызывается он и возвращается полученное значение.\n",
    "- Если attrname это специальный (определённый python-ом) атрибут, такой как `__class__` или `__doc__`, возвращается его значение.\n",
    "- Проверяется `a.__class__.__dict__` на наличие записи с attrname. Если она существует и значением является data дескриптор, возвращается результат вызова метода `__get__()` дескриптора. Также проверяются все базовые классы.\n",
    "- Если в `a.__dict__` существует запись с именем attrname, возвращается значение этой записи.\n",
    "- Проверяется `a.__class__.__dict__`, если в нём существует запись с attrname и это non-data дескриптор, возвращается результат `__get__()` дескриптора, если запись существует и там не дескриптор, возвращается значение записи. Также обыскиваются базовые классы.\n",
    "- Если существует метод `a.__class__.__getattr__()`, он вызывается и возвращается его результат. Если такого метода нет — выкидывается `AttributeError`.\n",
    "\n",
    "## Общий алгоритм назначения атрибута\n",
    "\n",
    "Чтобы установить значение value атрибута attrname экземпляра a:\n",
    "- Если существует метод `a.__class__.__setattr__()`, он вызывается.\n",
    "- Проверяется `a.__class__.__dict__`, если в нём есть запись с attrname и это дескриптор данных — вызывается метод `__set__()` дескриптора. Также проверяются базовые классы.\n",
    "- `a.__dict__` добавляется запись value с ключом attrname."
   ]
  },
  {
   "cell_type": "markdown",
   "metadata": {},
   "source": [
    "## Задание\n",
    "\n",
    "Доработать класс `Field` так, чтобы вдобавок к реализованному функционалу появились следующие возможности:\n",
    "\n",
    "`field = Field()`\n",
    "- Запись значения в ячейку:\n",
    "    - `field.a1 = 25` - эквивалентно `field['a1'] = 25`\n",
    "    - `field.A1 = 25` - то же самое\n",
    "- Получение значения:\n",
    "`field['b', 2] = 100\n",
    "field.b2\n",
    "field.B2`\n",
    "\n",
    "- Удаление значения:\n",
    "`del field.a1`, `del field.A1` - эквивалентно `del field['a', 1]`\n",
    "\n",
    "Таким образом, внутри класса `Field` методы работы с атрибутами должны работать с тем же объектом, в котором хранятся значения, обрабатываемые в методах `__setitem__`, `__getitem__`, `__delitem__`.\n",
    "\n",
    "Кроме того, обычное присвоение и получение атрибутов (тех, которые не являются адресом ячейки данных нашего класса) должно производиться по стандартному алгоритму питоновских объектов, т.е. они должны храниться в словаре `__dict__` объекта.\n",
    "\n",
    "`field = Field()\n",
    "field.abcde = 125\n",
    "field.__dict__['abcde'] == 125`\n",
    "\n",
    "Для таких атрибутов также должны быть реализованы получение, присваивание и удаление значения."
   ]
  },
  {
   "cell_type": "code",
   "execution_count": null,
   "metadata": {},
   "outputs": [],
   "source": [
    "from re import fullmatch\n",
    "\n",
    "class Field:\n",
    "\n",
    "    def __key_normalization(func):\n",
    "\n",
    "        def wrapper(self, __key, *args, **kwargs):\n",
    "            if type(__key) in (tuple, str):\n",
    "                if type(__key) == tuple and len(__key) != 2:\n",
    "                    raise ValueError(\"Invalid tuple key\")\n",
    "                __new_key = \"\".join(sorted(str(i).lower() for i in __key))\n",
    "                if fullmatch(r\"(\\d+\\w)|(\\w\\d+)\", __new_key):\n",
    "                    return func(self, __new_key, *args, **kwargs)\n",
    "                else:\n",
    "                    raise ValueError(\"Invalid string key\")\n",
    "            else:\n",
    "                raise TypeError(\"Invalid key type\")\n",
    "\n",
    "        return wrapper\n",
    "\n",
    "    def __is_attribute_name(default_func):\n",
    "\n",
    "        def decorator(func):\n",
    "\n",
    "            def wrapper(self, __name, *args, **kwargs):\n",
    "                if fullmatch(r\"\\w\\d+\", __name):\n",
    "                    return default_func(self, __name, *args, **kwargs)\n",
    "                else:\n",
    "                    return func(self, __name, *args, **kwargs)\n",
    "\n",
    "            return wrapper\n",
    "\n",
    "        return decorator\n",
    "\n",
    "    def __init__(self):\n",
    "        self.dict = {}\n",
    "\n",
    "    @__key_normalization\n",
    "    def __setitem__(self, __key, __value) -> None:\n",
    "        self.dict[__key] = __value\n",
    "\n",
    "    @__key_normalization\n",
    "    def __getitem__(self, __key):\n",
    "        return self.dict.get(__key, None)\n",
    "\n",
    "    @__key_normalization\n",
    "    def __delitem__(self, __key):\n",
    "    del self.dict[__key]\n",
    "\n",
    "    @__key_normalization\n",
    "    def __contains__(self, __other: object) -> bool:\n",
    "    return __other in self.dict\n",
    "\n",
    "    @__is_attribute_name(__setitem__)\n",
    "    def __setattr__(self, __name: str, __value) -> None:\n",
    "    return super().__setattr__(__name, __value)\n",
    "\n",
    "    @__is_attribute_name(__getitem__)\n",
    "    def __getattribute__(self, __name):\n",
    "    return super().__getattribute__(__name)\n",
    "\n",
    "    @__is_attribute_name(__delitem__)\n",
    "    def __delattr__(self, __name) -> None:\n",
    "    return super().__delattr__(__name)\n",
    "\n",
    "    def __missing__(self, __key):\n",
    "    return None\n",
    "\n",
    "    def __iter__(self):\n",
    "    return iter(self.dict.values())"
   ]
  }
 ],
 "metadata": {
  "kernelspec": {
   "display_name": "Python 3 (ipykernel)",
   "language": "python",
   "name": "python3"
  },
  "language_info": {
   "codemirror_mode": {
    "name": "ipython",
    "version": 3
   },
   "file_extension": ".py",
   "mimetype": "text/x-python",
   "name": "python",
   "nbconvert_exporter": "python",
   "pygments_lexer": "ipython3",
   "version": "3.9.12"
  }
 },
 "nbformat": 4,
 "nbformat_minor": 2
}
